{
 "cells": [
  {
   "cell_type": "markdown",
   "metadata": {},
   "source": [
    "# Spotify Dataset 1922-2021\n",
    "https://www.kaggle.com/yamaerenay/spotify-dataset-19212020-160k-tracks?select=tracks.csv\n"
   ]
  },
  {
   "cell_type": "code",
   "execution_count": null,
   "metadata": {},
   "outputs": [],
   "source": [
    "import pandas as pd\n",
    "import pandas.io.sql as psql\n",
    "import numpy as np\n",
    "import psycopg2 as pg\n",
    "from psycopg2 import Error\n",
    "import sqlalchemy as sqla\n",
    "import os\n",
    "\n",
    "import warnings\n",
    "warnings.filterwarnings(\"ignore\")"
   ]
  },
  {
   "cell_type": "code",
   "execution_count": 2,
   "metadata": {},
   "outputs": [],
   "source": [
    "# variáveis de conexão com o banco de dados\n",
    "db = 'utfpr'\n",
    "dbschema = 'pi3'  \n",
    "dbuser = 'utfpr'\n",
    "dbpass = 'postutfpr@8020'\n",
    "dbhost = 'localhost'\n",
    "dbport = '5432'\n",
    "\n",
    "conn = sqla.create_engine(\n",
    "      f'postgresql+psycopg2://{dbuser}:{dbpass}@{dbhost}:{dbport}/{db}'\n",
    "    , connect_args={'options': '-csearch_path={}'.format(dbschema)}\n",
    ")"
   ]
  },
  {
   "cell_type": "code",
   "execution_count": 3,
   "metadata": {},
   "outputs": [],
   "source": [
    "# função genérica para realizar o put dos datasets direto no banco postgresql\n",
    "# exemplo: put_sql_database(dataframe_criado, tabela_a_ser_criada_no_banco, variavel_da_conexao)\n",
    "def put_sql_database(df_put, tabela, conexao):\n",
    "    df_put.to_sql(\n",
    "        name=tabela,\n",
    "        con=conexao,\n",
    "        index=False,\n",
    "        if_exists='replace'\n",
    "    )"
   ]
  },
  {
   "cell_type": "code",
   "execution_count": 4,
   "metadata": {},
   "outputs": [],
   "source": [
    "# variável com o caminho para os arquivos CSV´s\n",
    "pasta = 'archive'\n",
    "\n",
    "# listando os arquivos do diretório archive\n",
    "caminhos = [os.path.join(pasta, nome) for nome in os.listdir(pasta)]\n",
    "arquivos = [arq for arq in caminhos if os.path.isfile(arq)]\n",
    "csvs = [arq for arq in arquivos if arq.lower().endswith(\".csv\")]"
   ]
  },
  {
   "cell_type": "code",
   "execution_count": 5,
   "metadata": {},
   "outputs": [],
   "source": [
    "import os\n",
    "x = [i[2] for i in os.walk('archive')]\n",
    "csvs=[]\n",
    "for t in x:\n",
    "    for f in t:\n",
    "        csvs.append(f)"
   ]
  },
  {
   "cell_type": "code",
   "execution_count": null,
   "metadata": {},
   "outputs": [],
   "source": [
    "# gravando no banco de dados cada arquivo csv será uma tabela no banco\n",
    "for csv in csvs: \n",
    "    tabela = os.path.splitext(csv)[0]  # nome do arquivo sem a extensão\n",
    "    \n",
    "    df = pd.read_csv(pasta +'/'+ csv)  # cria um dataframe com o nome do arquivo\n",
    "    \n",
    "    features = df.select_dtypes(include='number').columns  # seleciona somente as features numéricas do DataFrame, já explorado anteriormente  o pandas reconhece muito bem a tipagem destes arquivos\n",
    "    \n",
    "    list_caracteristicas = []  # lista vazia que irá receber as características\n",
    "\n",
    "    for i in df.index:  # percorre as features e popula a lista vazia\n",
    "        list_caracteristicas.append(list(df[features].loc[i]))\n",
    "    \n",
    "    df['vetor_caracteristicas'] = list_caracteristicas \n",
    "    df['vetor_caracteristicas'].replace(['[', ']'], ['{','}'])\n",
    "    \n",
    "    put_sql_database(df, tabela, conn)\n",
    "    psql.execute(f'ALTER TABLE {dbschema}.{tabela} ALTER COLUMN vetor_caracteristicas TYPE _float8 USING vetor_caracteristicas::_float8;', conn);"
   ]
  }
 ],
 "metadata": {
  "kernelspec": {
   "display_name": "Python 3",
   "language": "python",
   "name": "python3"
  },
  "language_info": {
   "codemirror_mode": {
    "name": "ipython",
    "version": 3
   },
   "file_extension": ".py",
   "mimetype": "text/x-python",
   "name": "python",
   "nbconvert_exporter": "python",
   "pygments_lexer": "ipython3",
   "version": "3.8.3"
  }
 },
 "nbformat": 4,
 "nbformat_minor": 4
}
